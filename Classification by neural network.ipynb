{
 "cells": [
  {
   "cell_type": "markdown",
   "id": "7323ef54",
   "metadata": {},
   "source": [
    "# Handwritten number classification : Fully connected Neural Network"
   ]
  },
  {
   "cell_type": "markdown",
   "id": "43094f1d",
   "metadata": {},
   "source": [
    "Classification of digits written by hand is one of the most popular beginner´s approch to learn machine learning. In this tutorial we will use fully connected **Neural Network** in order to classify the image of handwritten numbers. \n",
    "\n",
    "Methodology:\n",
    "- Data Processing\n",
    "- Model Architecture: network design\n",
    "- Training : network\n",
    "- Evaluating the result"
   ]
  },
  {
   "cell_type": "markdown",
   "id": "1e3fdb17",
   "metadata": {},
   "source": [
    " For science behinid the convolution neural network, please check this videos:\n",
    "        https://www.youtube.com/watch?v=2-mzxsSWVCU&list=PL2zRqk16wsdo3VJmrusPU6xXHk37RuKzi"
   ]
  },
  {
   "cell_type": "markdown",
   "id": "93d2c868",
   "metadata": {},
   "source": [
    "###  1) Importing the necessary library"
   ]
  },
  {
   "cell_type": "code",
   "execution_count": 3,
   "id": "a3b45b17",
   "metadata": {},
   "outputs": [],
   "source": [
    "# Importing the necessary library\n",
    "import numpy as np\n",
    "import matplotlib.pyplot as plt\n",
    "\n",
    "from keras.datasets import mnist\n",
    "from keras.layers import Dense, Flatten\n",
    "from keras.models import Sequential\n",
    "from tensorflow.keras.utils import to_categorical\n",
    "\n",
    "#note you might need to install tenserflow in your anaconda environment, if so type following in the anaconda prompt\n",
    "# pip install tensorflow==2.7 (CPU version)\n",
    "# pip install tensorflow-gpu==2.7 (GPU version)"
   ]
  },
  {
   "cell_type": "markdown",
   "id": "a506008e",
   "metadata": {},
   "source": [
    " ### 2) load the MINST dataset\n",
    " \n",
    "Lets load the MINST dataset which contain 60,000 training images and 10,000 test images of handwritten digits. The image are greyscale of 28*28 pixels and labelled with the corresponding digit."
   ]
  },
  {
   "cell_type": "code",
   "execution_count": 4,
   "id": "ff565080",
   "metadata": {},
   "outputs": [
    {
     "name": "stdout",
     "output_type": "stream",
     "text": [
      "Downloading data from https://storage.googleapis.com/tensorflow/tf-keras-datasets/mnist.npz\n",
      "11493376/11490434 [==============================] - 1s 0us/step\n",
      "11501568/11490434 [==============================] - 1s 0us/step\n"
     ]
    }
   ],
   "source": [
    "# Load MNIST handwritten digit data\n",
    "(X_train, y_train), (X_test, y_test) = mnist.load_data()"
   ]
  },
  {
   "cell_type": "markdown",
   "id": "98c30f2f",
   "metadata": {},
   "source": [
    "Before processing the data, lets have a look at the dataset itself. "
   ]
  },
  {
   "cell_type": "code",
   "execution_count": 5,
   "id": "45c7099f",
   "metadata": {},
   "outputs": [
    {
     "name": "stdout",
     "output_type": "stream",
     "text": [
      "(28, 28)\n",
      "(28, 28)\n",
      "(28, 28)\n",
      "(28, 28)\n",
      "(28, 28)\n"
     ]
    }
   ],
   "source": [
    "# to see the shape of image \n",
    "for i in range(5):\n",
    "  print(X_train[i].shape)"
   ]
  },
  {
   "cell_type": "code",
   "execution_count": 6,
   "id": "0e3a5ad0",
   "metadata": {},
   "outputs": [
    {
     "name": "stdout",
     "output_type": "stream",
     "text": [
      "[[  0   0   0   0   0   0   0   0   0   0   0   0   0   0   0   0   0   0\n",
      "    0   0   0   0   0   0   0   0   0   0]\n",
      " [  0   0   0   0   0   0   0   0   0   0   0   0   0   0   0   0   0   0\n",
      "    0   0   0   0   0   0   0   0   0   0]\n",
      " [  0   0   0   0   0   0   0   0   0   0   0   0   0   0   0   0   0   0\n",
      "    0   0   0   0   0   0   0   0   0   0]\n",
      " [  0   0   0   0   0   0   0   0   0   0   0   0   0   0   0   0   0   0\n",
      "    0   0   0   0   0   0   0   0   0   0]\n",
      " [  0   0   0   0   0   0   0   0   0   0   0   0   0   0   0   0   0   0\n",
      "    0   0   0   0   0   0   0   0   0   0]\n",
      " [  0   0   0   0   0   0   0   0   0   0   0   0   3  18  18  18 126 136\n",
      "  175  26 166 255 247 127   0   0   0   0]\n",
      " [  0   0   0   0   0   0   0   0  30  36  94 154 170 253 253 253 253 253\n",
      "  225 172 253 242 195  64   0   0   0   0]\n",
      " [  0   0   0   0   0   0   0  49 238 253 253 253 253 253 253 253 253 251\n",
      "   93  82  82  56  39   0   0   0   0   0]\n",
      " [  0   0   0   0   0   0   0  18 219 253 253 253 253 253 198 182 247 241\n",
      "    0   0   0   0   0   0   0   0   0   0]\n",
      " [  0   0   0   0   0   0   0   0  80 156 107 253 253 205  11   0  43 154\n",
      "    0   0   0   0   0   0   0   0   0   0]\n",
      " [  0   0   0   0   0   0   0   0   0  14   1 154 253  90   0   0   0   0\n",
      "    0   0   0   0   0   0   0   0   0   0]\n",
      " [  0   0   0   0   0   0   0   0   0   0   0 139 253 190   2   0   0   0\n",
      "    0   0   0   0   0   0   0   0   0   0]\n",
      " [  0   0   0   0   0   0   0   0   0   0   0  11 190 253  70   0   0   0\n",
      "    0   0   0   0   0   0   0   0   0   0]\n",
      " [  0   0   0   0   0   0   0   0   0   0   0   0  35 241 225 160 108   1\n",
      "    0   0   0   0   0   0   0   0   0   0]\n",
      " [  0   0   0   0   0   0   0   0   0   0   0   0   0  81 240 253 253 119\n",
      "   25   0   0   0   0   0   0   0   0   0]\n",
      " [  0   0   0   0   0   0   0   0   0   0   0   0   0   0  45 186 253 253\n",
      "  150  27   0   0   0   0   0   0   0   0]\n",
      " [  0   0   0   0   0   0   0   0   0   0   0   0   0   0   0  16  93 252\n",
      "  253 187   0   0   0   0   0   0   0   0]\n",
      " [  0   0   0   0   0   0   0   0   0   0   0   0   0   0   0   0   0 249\n",
      "  253 249  64   0   0   0   0   0   0   0]\n",
      " [  0   0   0   0   0   0   0   0   0   0   0   0   0   0  46 130 183 253\n",
      "  253 207   2   0   0   0   0   0   0   0]\n",
      " [  0   0   0   0   0   0   0   0   0   0   0   0  39 148 229 253 253 253\n",
      "  250 182   0   0   0   0   0   0   0   0]\n",
      " [  0   0   0   0   0   0   0   0   0   0  24 114 221 253 253 253 253 201\n",
      "   78   0   0   0   0   0   0   0   0   0]\n",
      " [  0   0   0   0   0   0   0   0  23  66 213 253 253 253 253 198  81   2\n",
      "    0   0   0   0   0   0   0   0   0   0]\n",
      " [  0   0   0   0   0   0  18 171 219 253 253 253 253 195  80   9   0   0\n",
      "    0   0   0   0   0   0   0   0   0   0]\n",
      " [  0   0   0   0  55 172 226 253 253 253 253 244 133  11   0   0   0   0\n",
      "    0   0   0   0   0   0   0   0   0   0]\n",
      " [  0   0   0   0 136 253 253 253 212 135 132  16   0   0   0   0   0   0\n",
      "    0   0   0   0   0   0   0   0   0   0]\n",
      " [  0   0   0   0   0   0   0   0   0   0   0   0   0   0   0   0   0   0\n",
      "    0   0   0   0   0   0   0   0   0   0]\n",
      " [  0   0   0   0   0   0   0   0   0   0   0   0   0   0   0   0   0   0\n",
      "    0   0   0   0   0   0   0   0   0   0]\n",
      " [  0   0   0   0   0   0   0   0   0   0   0   0   0   0   0   0   0   0\n",
      "    0   0   0   0   0   0   0   0   0   0]]\n"
     ]
    }
   ],
   "source": [
    "# see how the picture matrix looks like\n",
    "print(X_train[0])"
   ]
  },
  {
   "cell_type": "markdown",
   "id": "294732db",
   "metadata": {},
   "source": [
    "### 3) Processing the Data\n",
    "\n",
    "Changing the labels data (y_train & y_test) into one-hot format by using the ***to_categorical*** function.\n",
    "The labels which are represented by integers from 0 to 9 will be converted into a vector of 10 values, where the value at the index corresponding to the label is 1, and all other values are 0.\n",
    "\n",
    "Eg: the label 2 would be represented as $[0, 0, 1, 0, 0, 0, 0, 0, 0, 0]$ in one-hot encoded form.\n"
   ]
  },
  {
   "cell_type": "code",
   "execution_count": 7,
   "id": "168f8b74",
   "metadata": {},
   "outputs": [],
   "source": [
    "# one-hot format\n",
    "y_train=to_categorical(y_train,num_classes=10)\n",
    "y_test=to_categorical(y_test,num_classes=10)\n"
   ]
  },
  {
   "cell_type": "code",
   "execution_count": 8,
   "id": "32d95088",
   "metadata": {},
   "outputs": [
    {
     "name": "stdout",
     "output_type": "stream",
     "text": [
      "[0. 0. 0. 0. 0. 0. 0. 1. 0. 0.]\n",
      "[0. 0. 1. 0. 0. 0. 0. 0. 0. 0.]\n",
      "[0. 1. 0. 0. 0. 0. 0. 0. 0. 0.]\n",
      "[1. 0. 0. 0. 0. 0. 0. 0. 0. 0.]\n",
      "[0. 0. 0. 0. 1. 0. 0. 0. 0. 0.]\n"
     ]
    }
   ],
   "source": [
    "# checking how the one-hot format looks like\n",
    "for i in range(5):\n",
    "  print(y_test[i])"
   ]
  },
  {
   "cell_type": "markdown",
   "id": "4968c9b7",
   "metadata": {},
   "source": [
    "### 4) Neural Network Architecture\n",
    "\n",
    "A fully connected neural network consists of one or more hidden layers, where each neuron in a layer is connected to every other neurons from the previous layer.\n",
    "\n",
    "- Initially start by creating a simple Neural Network model by using the ***sequential*** class. It will create a neural network model where the layers can be added in sequence. This class allows us to create a neural network by stacking layers on top of each other.\n",
    "\n",
    "\n",
    "- To add  layers to the model, we should use ***model.add()*** \n",
    "\n",
    "\n",
    "- Since first layer is the input layer, we have use out dataset as input, hence we have input it in away that network can comprehend. Use ***flatten*** for the first layer. The Flatten layer in Keras is used to convert a multidimensional input tensor into a single-dimensional output tensor. The Flatten layer takes an input tensor of shape (batch_size, height, width, channels) and flattens it into a single-dimensional tensor of shape (batch_size, height * width * channels). Eg: For an input tensor of shape (32, 28, 28, 3), where 32 is the batch size, 28 is the height and width of each image, and 3 is the number of color channels. The Flatten layer will convert this tensor into a single-dimensional tensor of shape (32, 2352), where 2352 is the product of the height, width, and channels.\n",
    "\n",
    "\n",
    "- Instead of using ***flatten*** as first layer, once can individually process the input data and provide the relevent shape. Eg: (batch_size, height * width * channels) by using **X_train = X_train.reshape((60000, 784))**. In that case you just add the layer and provide the shape. But in this tutorial we prefer to use ***flatten*** instead.\n",
    "\n",
    "\n",
    "-  Besdie first layer, the number of units (neurons) to be added is assigned after ***Dense*** in each layer. Rember the number of neurons in the last layer should be same as the desired output classification.\n",
    "\n",
    "\n",
    "- As activation function has to be assigned for each layers, eg: relu, softmax, etc. Choose which activation function is the best option in each of the layers.\n",
    "\n",
    "\n",
    "- Finally, it is always nice to print the summery, whihc provides details about the number of parameters being solved.\n",
    "\n",
    "\n",
    "- For more detials on ***Keras*** model building, please check: https://keras.io/guides/sequential_model/"
   ]
  },
  {
   "cell_type": "code",
   "execution_count": 9,
   "id": "60c6160f",
   "metadata": {},
   "outputs": [
    {
     "name": "stdout",
     "output_type": "stream",
     "text": [
      "Model: \"sequential\"\n",
      "_________________________________________________________________\n",
      " Layer (type)                Output Shape              Param #   \n",
      "=================================================================\n",
      " flatten (Flatten)           (None, 784)               0         \n",
      "                                                                 \n",
      " dense (Dense)               (None, 5)                 3925      \n",
      "                                                                 \n",
      " dense_1 (Dense)             (None, 10)                60        \n",
      "                                                                 \n",
      "=================================================================\n",
      "Total params: 3,985\n",
      "Trainable params: 3,985\n",
      "Non-trainable params: 0\n",
      "_________________________________________________________________\n"
     ]
    }
   ],
   "source": [
    "model = Sequential()\n",
    "model.add(Flatten(input_shape=(28,28)))\n",
    "model.add(Dense(5, activation='sigmoid'))\n",
    "model.add(Dense(10, activation='softmax'))\n",
    "\n",
    "model.summary()"
   ]
  },
  {
   "cell_type": "markdown",
   "id": "9febe3ad",
   "metadata": {},
   "source": [
    "Adding **Batch Normalization** layer to the neural network model.\n",
    "\n",
    "Batch Normalization operates on mini-batches of data during training, and normalizes the input to each layer by subtracting the mean and dividing by the standard deviation. This can help prevent the values of the input from becoming too large or too small, which can lead to issues such as vanishing gradients or exploding gradients. The normalized output is then rescaled and shifted using learnable parameters, which allow the network to adapt the normalization to the specific task at hand."
   ]
  },
  {
   "cell_type": "code",
   "execution_count": 10,
   "id": "c657f3ea",
   "metadata": {},
   "outputs": [
    {
     "name": "stdout",
     "output_type": "stream",
     "text": [
      "Model: \"sequential_1\"\n",
      "_________________________________________________________________\n",
      " Layer (type)                Output Shape              Param #   \n",
      "=================================================================\n",
      " flatten_1 (Flatten)         (None, 784)               0         \n",
      "                                                                 \n",
      " batch_normalization (BatchN  (None, 784)              3136      \n",
      " ormalization)                                                   \n",
      "                                                                 \n",
      " dense_2 (Dense)             (None, 5)                 3925      \n",
      "                                                                 \n",
      " dense_3 (Dense)             (None, 10)                60        \n",
      "                                                                 \n",
      "=================================================================\n",
      "Total params: 7,121\n",
      "Trainable params: 5,553\n",
      "Non-trainable params: 1,568\n",
      "_________________________________________________________________\n"
     ]
    }
   ],
   "source": [
    "# model with batch normalization layer\n",
    "from tensorflow.keras.layers import BatchNormalization\n",
    "\n",
    "model = Sequential()\n",
    "model.add(Flatten(input_shape=(28,28)))\n",
    "model.add(BatchNormalization())\n",
    "model.add(Dense(5, activation='sigmoid'))\n",
    "model.add(Dense(10, activation='softmax'))\n",
    "\n",
    "model.summary()"
   ]
  },
  {
   "cell_type": "markdown",
   "id": "21d556ad",
   "metadata": {},
   "source": [
    "**Compile the model**\n",
    "\n",
    "- ***optimizer***: This is the optimization algorithm used to update the weights in the neural network during training. In this case, we are using Stochastic Gradient Descent (SGD).\n",
    "\n",
    "\n",
    "- In the example implementation you provided, the ***categorical_crossentropy*** loss function is used. This is a commonly used loss function for multi-class classification problems, where the goal is to predict the class label of an input example from a set of possible classes. The ***categorical_crossentropy*** loss function measures the difference between the true class distribution and the predicted class distribution. The predicted class distribution is obtained by applying the softmax function to the output of the model's final layer, which produces a probability distribution over the possible classes.\n",
    "\n",
    "\n",
    "- The ***accuracy*** metric will be used to monitor the model's performance during training and validation. This iswhich is the proportion of correct predictions among the total number of predictions.\n",
    "\n"
   ]
  },
  {
   "cell_type": "code",
   "execution_count": 11,
   "id": "b9dfd79e",
   "metadata": {},
   "outputs": [],
   "source": [
    "# compilation of model\n",
    "model.compile(loss='categorical_crossentropy', optimizer='adam', metrics=['acc'])\n"
   ]
  },
  {
   "cell_type": "markdown",
   "id": "b664d1f8",
   "metadata": {},
   "source": [
    "### 5) Training\n",
    "\n",
    "-  Lets train our neural network using the fit function for the provided dataset. \n",
    "\n",
    "\n",
    "- The ***epochs*** refers to number of iteration desired.\n",
    "\n",
    "\n",
    "- ***validation_data***: This is a tuple of input and target data for the validation set. The validation set is used to evaluate the performance of the model during training and to prevent overfitting. If specified, the validation loss and metrics will be computed and displayed during training."
   ]
  },
  {
   "cell_type": "code",
   "execution_count": 12,
   "id": "54313350",
   "metadata": {},
   "outputs": [
    {
     "name": "stdout",
     "output_type": "stream",
     "text": [
      "Epoch 1/10\n",
      "1875/1875 [==============================] - 4s 2ms/step - loss: 1.3354 - acc: 0.7003 - val_loss: 0.9140 - val_acc: 0.8237\n",
      "Epoch 2/10\n",
      "1875/1875 [==============================] - 2s 1ms/step - loss: 0.8298 - acc: 0.8096 - val_loss: 0.6795 - val_acc: 0.8426\n",
      "Epoch 3/10\n",
      "1875/1875 [==============================] - 3s 1ms/step - loss: 0.6796 - acc: 0.8235 - val_loss: 0.5939 - val_acc: 0.8465\n",
      "Epoch 4/10\n",
      "1875/1875 [==============================] - 3s 2ms/step - loss: 0.6122 - acc: 0.8318 - val_loss: 0.5519 - val_acc: 0.8502\n",
      "Epoch 5/10\n",
      "1875/1875 [==============================] - 3s 2ms/step - loss: 0.5702 - acc: 0.8403 - val_loss: 0.5195 - val_acc: 0.8603\n",
      "Epoch 6/10\n",
      "1875/1875 [==============================] - 3s 1ms/step - loss: 0.5469 - acc: 0.8437 - val_loss: 0.5102 - val_acc: 0.8583\n",
      "Epoch 7/10\n",
      "1875/1875 [==============================] - 2s 1ms/step - loss: 0.5280 - acc: 0.8496 - val_loss: 0.4921 - val_acc: 0.8663\n",
      "Epoch 8/10\n",
      "1875/1875 [==============================] - 2s 1ms/step - loss: 0.5124 - acc: 0.8528 - val_loss: 0.4823 - val_acc: 0.8670\n",
      "Epoch 9/10\n",
      "1875/1875 [==============================] - 2s 1ms/step - loss: 0.5001 - acc: 0.8555 - val_loss: 0.4772 - val_acc: 0.8714\n",
      "Epoch 10/10\n",
      "1875/1875 [==============================] - 4s 2ms/step - loss: 0.4917 - acc: 0.8575 - val_loss: 0.4684 - val_acc: 0.8704\n"
     ]
    },
    {
     "data": {
      "text/plain": [
       "<keras.callbacks.History at 0x1faad76ff70>"
      ]
     },
     "execution_count": 12,
     "metadata": {},
     "output_type": "execute_result"
    }
   ],
   "source": [
    "# Train the Neural Network model\n",
    "model.fit(X_train, y_train, epochs=10, validation_data=(X_test,y_test))\n",
    "\n"
   ]
  },
  {
   "cell_type": "markdown",
   "id": "fcef70c4",
   "metadata": {},
   "source": [
    "### 6) Prediction\n",
    "\n",
    "\n",
    "Prediction over the test dataset using the trained model. Ways to evaluate the prediction are as follows:\n",
    "\n",
    "- Evaluating the performance on the test dataset by using ***model.evaluate()*** function.\n",
    "\n",
    "The verbosity is set to 0 to suppress output, and store the results in the score variable. The test loss is a scalar value representing the error of the model on the test set, and the test accuracy is the proportion of correctly classified examples in the test set."
   ]
  },
  {
   "cell_type": "code",
   "execution_count": 13,
   "id": "dbb535f1",
   "metadata": {},
   "outputs": [
    {
     "name": "stdout",
     "output_type": "stream",
     "text": [
      "Test loss: 0.46844083070755005\n",
      "Test accuracy: 0.8704000115394592\n"
     ]
    }
   ],
   "source": [
    "# Evaluate the model\n",
    "score = model.evaluate(X_test, y_test, verbose=0)\n",
    "print('Test loss:', score[0])\n",
    "print('Test accuracy:', score[1])"
   ]
  },
  {
   "cell_type": "markdown",
   "id": "302cb5fc",
   "metadata": {},
   "source": [
    "\n",
    "- ***model.predict*** checks the output of the predict function.\n",
    "\n",
    "It applies the trained model to the test set inputs and produces corresponding predicted outputs, which are then stored in the predictions variable. Each element in the predictions array represents the model's predicted probability for a particular class for a given input sample.\n"
   ]
  },
  {
   "cell_type": "code",
   "execution_count": 14,
   "id": "a298e36d",
   "metadata": {},
   "outputs": [
    {
     "name": "stdout",
     "output_type": "stream",
     "text": [
      "[[1.88269978e-03 7.57552742e-04 7.16626644e-04 ... 9.46979403e-01\n",
      "  4.81791655e-03 2.80204751e-02]\n",
      " [7.74373114e-02 2.12473140e-04 8.47456872e-01 ... 2.06604658e-04\n",
      "  7.24069588e-03 2.51075071e-05]\n",
      " [3.52038041e-05 9.51123118e-01 1.14705078e-02 ... 1.27982786e-02\n",
      "  5.94684109e-03 1.04665253e-02]\n",
      " ...\n",
      " [2.18381523e-04 1.84690894e-03 5.61186171e-05 ... 7.46268127e-03\n",
      "  1.23017691e-02 4.83039737e-01]\n",
      " [7.37977971e-04 1.13111571e-04 7.85704528e-04 ... 1.20604076e-04\n",
      "  1.71003222e-01 4.17893054e-04]\n",
      " [4.39281110e-04 7.02878533e-05 4.89577977e-03 ... 4.92144409e-07\n",
      "  2.24580220e-03 1.38388437e-04]]\n"
     ]
    }
   ],
   "source": [
    "# Evaluation \n",
    "predictions = model.predict(X_test)\n",
    "print(predictions)\n"
   ]
  },
  {
   "cell_type": "markdown",
   "id": "d8903fc1",
   "metadata": {},
   "source": [
    "Once you have these predicted probabilities, you can use them to make predictions on new, unseen data by selecting the class with the highest probability. For example, you might use the ***argmax()*** function to find the index of the highest predicted probability for each input sample:"
   ]
  },
  {
   "cell_type": "code",
   "execution_count": 15,
   "id": "478a2357",
   "metadata": {},
   "outputs": [
    {
     "name": "stdout",
     "output_type": "stream",
     "text": [
      "[7 2 1 ... 9 5 6]\n"
     ]
    }
   ],
   "source": [
    "predictions = np.argmax(predictions, axis=1)\n",
    "print(predictions)"
   ]
  },
  {
   "cell_type": "markdown",
   "id": "216da5e7",
   "metadata": {},
   "source": [
    "**Plotting**: \n",
    "display the first 10 images from the test dataset showing the prediction on top of each image"
   ]
  },
  {
   "cell_type": "code",
   "execution_count": 16,
   "id": "fd89f192",
   "metadata": {},
   "outputs": [
    {
     "data": {
      "image/png": "[encoded data removed]",
      "text/plain": [
       "<Figure size 1440x288 with 10 Axes>"
      ]
     },
     "metadata": {
      "needs_background": "light"
     },
     "output_type": "display_data"
    }
   ],
   "source": [
    "# Display some predictions on test data\n",
    "fig, axes = plt.subplots(ncols=10, sharex=False, sharey=True, figsize=(20, 4))\n",
    "for i in range(10):\n",
    "    axes[i].set_title(predictions[i])\n",
    "    axes[i].imshow(X_test[i], cmap='gray')\n",
    "    axes[i].get_xaxis().set_visible(False)\n",
    "    axes[i].get_yaxis().set_visible(False)\n",
    "plt.show()"
   ]
  },
  {
   "cell_type": "code",
   "execution_count": null,
   "id": "3a1bb137",
   "metadata": {},
   "outputs": [],
   "source": []
  }
 ],
 "metadata": {
  "kernelspec": {
   "display_name": "Python 3",
   "language": "python",
   "name": "python3"
  },
  "language_info": {
   "codemirror_mode": {
    "name": "ipython",
    "version": 3
   },
   "file_extension": ".py",
   "mimetype": "text/x-python",
   "name": "python",
   "nbconvert_exporter": "python",
   "pygments_lexer": "ipython3",
   "version": "3.8.8"
  }
 },
 "nbformat": 4,
 "nbformat_minor": 5
}
